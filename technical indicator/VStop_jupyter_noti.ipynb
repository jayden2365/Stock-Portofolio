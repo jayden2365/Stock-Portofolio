{
 "cells": [
  {
   "cell_type": "code",
   "execution_count": 1,
   "id": "8799a1ce",
   "metadata": {},
   "outputs": [],
   "source": [
    "# pip install yfinance"
   ]
  },
  {
   "cell_type": "code",
   "execution_count": 2,
   "id": "da24bd75",
   "metadata": {},
   "outputs": [],
   "source": [
    "# pip install plotly"
   ]
  },
  {
   "cell_type": "code",
   "execution_count": 3,
   "id": "aefe7c3f",
   "metadata": {},
   "outputs": [],
   "source": [
    "import yfinance as yf\n",
    "import plotly.graph_objects as go\n",
    "import numpy as np\n",
    "import pandas as pd\n",
    "from datetime import date"
   ]
  },
  {
   "cell_type": "code",
   "execution_count": 4,
   "id": "40ee70ac",
   "metadata": {},
   "outputs": [],
   "source": [
    "# RMA function\n",
    "def rma(input_data, input_window_length):\n",
    "    alpha = 1/input_window_length\n",
    "    rma_list = []\n",
    "    for i in range(len(input_data)):\n",
    "        if i < input_window_length:\n",
    "            rma_list.append(None)\n",
    "        elif i == input_window_length:\n",
    "            rma_list.append(np.mean(input_data[i-input_window_length:i])) #SMA initial\n",
    "        else:\n",
    "            rma_list.append(alpha*input_data[i] + (1 - alpha)*rma_list[i-1])\n",
    "    return rma_list"
   ]
  },
  {
   "cell_type": "code",
   "execution_count": 5,
   "id": "7a4a6a65",
   "metadata": {},
   "outputs": [],
   "source": [
    "# True Range Function\n",
    "def true_range(input_data):\n",
    "    true_atr_list = []\n",
    "    for i in range(len(input_data)):\n",
    "        if i == 0:\n",
    "            true_atr_list.append(input_data.High[i] - input_data.Low[i])\n",
    "        else:\n",
    "            high_low = input_data.High[i] - input_data.Low[i]\n",
    "            high_close = input_data.High[i] - input_data.Close[i-1]\n",
    "            low_close = input_data.Low[i] - input_data.Close[i-1]\n",
    "            true_atr_list.append(max(max(high_low, abs(high_close)), abs(low_close)))\n",
    "    return true_atr_list"
   ]
  },
  {
   "cell_type": "code",
   "execution_count": 6,
   "id": "8d514e1c",
   "metadata": {},
   "outputs": [],
   "source": [
    "# ATR function\n",
    "def atr(input_data, input_window_length):\n",
    "    return rma(true_range(input_data), input_window_length)"
   ]
  },
  {
   "cell_type": "code",
   "execution_count": 7,
   "id": "65ac9c6b",
   "metadata": {},
   "outputs": [],
   "source": [
    "# v_stop function\n",
    "def vstop(input_data, input_window_length, input_atr_factor):\n",
    "    atr_list = []\n",
    "    true_range_list = []\n",
    "    atrM_list = []\n",
    "    vstop_list = []\n",
    "    uptrend_list = []\n",
    "    max_min_list = []\n",
    "    \n",
    "    atr_list = atr(input_data, input_window_length)\n",
    "    true_range_list = true_range(input_data)\n",
    "    \n",
    "    for i in range(len(input_data)):\n",
    "        if i < input_window_length:\n",
    "            atrM_list.append(true_range_list[i])\n",
    "        else:\n",
    "            atrM_list.append(atr_list[i]*input_atr_factor)\n",
    "       \n",
    "    for i in range(len(input_data)): \n",
    "        if i == 0: #base case up trend\n",
    "            vstop_list.append(input_data.Close[i])\n",
    "            uptrend_list.append(True)\n",
    "            max_min_list.append(input_data.Close[i])\n",
    "        elif i == 1:\n",
    "            vstop_list.append(max(vstop_list[i-1], max_min_list[i-1] - atrM_list[i]))\n",
    "            if input_data.Close[i] - vstop_list[i] >= 0:\n",
    "                uptrend_list.append(True)\n",
    "                max_min_list.append(max(max_min_list[i-1], input_data.Close[i]))\n",
    "            else:\n",
    "                vstop_list[i] = input_data.Close[i] + atrM_list[i]\n",
    "                uptrend_list.append(False)\n",
    "                max_min_list.append(input_data.Close[i])\n",
    "        else: \n",
    "            if uptrend_list[i-1] == True:\n",
    "                vstop_list.append(max(vstop_list[i-1], max_min_list[i-1] - atrM_list[i]))\n",
    "                if input_data.Close[i] - vstop_list[i] >= 0:\n",
    "                    uptrend_list.append(True)\n",
    "                    max_min_list.append(max(max_min_list[i-1], input_data.Close[i]))\n",
    "                else:\n",
    "                    vstop_list[i] = input_data.Close[i] + atrM_list[i]\n",
    "                    uptrend_list.append(False)\n",
    "                    max_min_list.append(input_data.Close[i])\n",
    "            else:\n",
    "                vstop_list.append(min(vstop_list[i-1], max_min_list[i-1] + atrM_list[i]))\n",
    "                if input_data.Close[i] - vstop_list[i] <= 0:\n",
    "                    uptrend_list.append(False)\n",
    "                    max_min_list.append(min(max_min_list[i-1], input_data.Close[i]))\n",
    "                else:\n",
    "                    vstop_list[i] = input_data.Close[i] - atrM_list[i]\n",
    "                    uptrend_list.append(True)\n",
    "                    max_min_list.append(input_data.Close[i])\n",
    "\n",
    "    return [vstop_list, uptrend_list]"
   ]
  },
  {
   "cell_type": "code",
   "execution_count": 8,
   "id": "60e85fb3",
   "metadata": {},
   "outputs": [],
   "source": [
    "# Define Global Variable\n",
    "atr_length = 10\n",
    "atr_factor = 4.0\n",
    "start_date = \"1990-01-01\" # Start Date\n",
    "end_date = date.today() # End Date"
   ]
  },
  {
   "cell_type": "code",
   "execution_count": 9,
   "id": "9601fed0",
   "metadata": {},
   "outputs": [],
   "source": [
    "# User Define\n",
    "tickers = [\"TSLA\", \"AAPL\"] # Tickers List"
   ]
  },
  {
   "cell_type": "code",
   "execution_count": 10,
   "id": "c8566571",
   "metadata": {},
   "outputs": [
    {
     "name": "stdout",
     "output_type": "stream",
     "text": [
      "[*********************100%***********************]  1 of 1 completed\n",
      "[*********************100%***********************]  1 of 1 completed\n"
     ]
    }
   ],
   "source": [
    "vstop_result = []\n",
    "vstop_result_list = []\n",
    "v_change = []\n",
    "for ticker in tickers:\n",
    "    downloaded_data = yf.download(ticker, start = start_date, end = end_date)\n",
    "    vstop_result = vstop(downloaded_data,atr_length,atr_factor)\n",
    "    if vstop_result[1][len(vstop_result[1]) == 2:len(vstop_result[1])]:\n",
    "        v_change.append(False)\n",
    "    else:\n",
    "        v_change.append(True)\n",
    "    vstop_result_list.append(vstop_result[1][len(vstop_result[1])-2:len(vstop_result[1])])\n",
    "target = pd.DataFrame(vstop_result_list, columns = [\"Previous Day\", \"Today\"], index = tickers)\n",
    "target[\"V Change\"] = pd.DataFrame({\"V Change\":v_change}, index = tickers)"
   ]
  },
  {
   "cell_type": "code",
   "execution_count": 11,
   "id": "8828d1e2",
   "metadata": {},
   "outputs": [
    {
     "name": "stdout",
     "output_type": "stream",
     "text": [
      "Index([], dtype='object')\n"
     ]
    }
   ],
   "source": [
    "# Output\n",
    "print(target[target[\"V Change\"] == True].index)"
   ]
  }
 ],
 "metadata": {
  "kernelspec": {
   "display_name": "Python 3",
   "language": "python",
   "name": "python3"
  },
  "language_info": {
   "codemirror_mode": {
    "name": "ipython",
    "version": 3
   },
   "file_extension": ".py",
   "mimetype": "text/x-python",
   "name": "python",
   "nbconvert_exporter": "python",
   "pygments_lexer": "ipython3",
   "version": "3.8.8"
  }
 },
 "nbformat": 4,
 "nbformat_minor": 5
}
